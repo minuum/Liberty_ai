<<<<<<< HEAD
{
 "cells": [
  {
   "cell_type": "code",
   "execution_count": null,
   "metadata": {},
   "outputs": [],
   "source": [
    "import json\n",
    "from langchain_community.document_loaders import JSONLoader\n",
    "from langchain_upstage import \n",
    "\n",
    "\n",
    "def json_load():\n",
    "    file_path = \"data/154.의료, 법률 전문 서적 말뭉치/01-1.정식개방데이터/Validation/02.라벨링데이터/Validation_legal.json\"\n",
    "    loader = JSONLoader(\n",
    "        file_path=file_path,\n",
    "        jq_schema='.[]',\n",
    "    )\n",
    "    data = loader.load()\n",
    "    return data"
   ]
  }
 ],
 "metadata": {
  "language_info": {
   "name": "python"
  }
 },
 "nbformat": 4,
 "nbformat_minor": 2
}
=======
version https://git-lfs.github.com/spec/v1
oid sha256:c5027836079a9d27689435784d1dfcc3336d2d9655492bbe109a5de88cf7f9a7
size 750
>>>>>>> e750685f819534bc284978bee07b405d92b7c178
