version https://git-lfs.github.com/spec/v1
oid sha256:505fdc3cd161f8dd1c64703e3cc73e3155ed3f521c3a7fc9c36659a02b7e34ba
size 3792689
